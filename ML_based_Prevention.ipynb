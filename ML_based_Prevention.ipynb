{
  "nbformat": 4,
  "nbformat_minor": 0,
  "metadata": {
    "colab": {
      "name": "Copy of endsem_CN_project.ipynb",
      "provenance": [],
      "collapsed_sections": [],
      "machine_shape": "hm"
    },
    "kernelspec": {
      "name": "python3",
      "display_name": "Python 3"
    },
    "language_info": {
      "name": "python"
    },
    "accelerator": "GPU"
  },
  "cells": [
    {
      "cell_type": "markdown",
      "source": [
        "# Implmentation of low rate targetted DDos attacks (LSTM)"
      ],
      "metadata": {
        "id": "zAO6Gowolxlj"
      }
    },
    {
      "cell_type": "code",
      "execution_count": null,
      "metadata": {
        "id": "1fJk7zmMjcFm"
      },
      "outputs": [],
      "source": [
        "## Importing libraries\n",
        "import numpy as np\n",
        "import pandas as pd\n",
        "import matplotlib.pyplot as plt\n",
        "from keras.models import Sequential, load_model\n",
        "from keras.layers import Dense, LSTM, Bidirectional\n",
        "from keras.utils.np_utils import to_categorical\n",
        "from keras.utils import np_utils\n",
        "from sklearn.model_selection import train_test_split\n",
        "from sklearn.preprocessing import LabelEncoder, StandardScaler\n",
        "from sklearn.metrics import confusion_matrix\n",
        "import seaborn as sns"
      ]
    },
    {
      "cell_type": "markdown",
      "source": [
        "Reading data"
      ],
      "metadata": {
        "id": "lDb10Ea6O4Vq"
      }
    },
    {
      "cell_type": "code",
      "source": [
        "from google.colab import drive\n",
        "drive.mount('/content/drive')"
      ],
      "metadata": {
        "colab": {
          "base_uri": "https://localhost:8080/"
        },
        "id": "k451GNOoO9tL",
        "outputId": "199fc960-c733-4006-8daf-f29a591f3fa2"
      },
      "execution_count": null,
      "outputs": [
        {
          "output_type": "stream",
          "name": "stdout",
          "text": [
            "Mounted at /content/drive\n"
          ]
        }
      ]
    },
    {
      "cell_type": "code",
      "execution_count": null,
      "metadata": {
        "id": "MOKVbdzBjlmP"
      },
      "outputs": [],
      "source": [
        "path_attack=\"/content/drive/Shareddrives/EE706_Project/dataset/ids_iscx_2012_dataset-master (1)/ids_iscx_2012_dataset-master/dataset_attack.csv\"\n",
        "path_normal=\"/content/drive/Shareddrives/EE706_Project/dataset/ids_iscx_2012_dataset-master (1)/ids_iscx_2012_dataset-master/dataset_normal.csv\"\n",
        "data_attack=pd.read_csv(path_attack, nrows=60000)\n",
        "data_normal=pd.read_csv(path_normal,nrows=60000)"
      ]
    },
    {
      "cell_type": "markdown",
      "source": [
        "Extracting useful features"
      ],
      "metadata": {
        "id": "3kl3xJTzSee8"
      }
    },
    {
      "cell_type": "code",
      "execution_count": null,
      "metadata": {
        "id": "kMoOG1gDj1eJ"
      },
      "outputs": [],
      "source": [
        "data_normal.columns=[ 'frame.len', 'frame.protocols', 'ip.hdr_len',\n",
        "       'ip.len', 'ip.flags.rb', 'ip.flags.df', 'p.flags.mf', 'ip.frag_offset',\n",
        "       'ip.ttl', 'ip.proto', 'ip.src', 'ip.dst', 'tcp.srcport', 'tcp.dstport',\n",
        "       'tcp.len', 'tcp.ack', 'tcp.flags.res', 'tcp.flags.ns', 'tcp.flags.cwr',\n",
        "       'tcp.flags.ecn', 'tcp.flags.urg', 'tcp.flags.ack', 'tcp.flags.push',\n",
        "       'tcp.flags.reset', 'tcp.flags.syn', 'tcp.flags.fin', 'tcp.window_size',\n",
        "       'tcp.time_delta','class']\n",
        "data_attack.columns=[ 'frame.len', 'frame.protocols', 'ip.hdr_len',\n",
        "       'ip.len', 'ip.flags.rb', 'ip.flags.df', 'p.flags.mf', 'ip.frag_offset',\n",
        "       'ip.ttl', 'ip.proto', 'ip.src', 'ip.dst', 'tcp.srcport', 'tcp.dstport',\n",
        "       'tcp.len', 'tcp.ack', 'tcp.flags.res', 'tcp.flags.ns', 'tcp.flags.cwr',\n",
        "       'tcp.flags.ecn', 'tcp.flags.urg', 'tcp.flags.ack', 'tcp.flags.push',\n",
        "       'tcp.flags.reset', 'tcp.flags.syn', 'tcp.flags.fin', 'tcp.window_size',\n",
        "       'tcp.time_delta','class']\n",
        "data_normal=data_normal.drop(['ip.src', 'ip.dst','frame.protocols'],axis=1)\n",
        "data_attack=data_attack.drop(['ip.src', 'ip.dst','frame.protocols'],axis=1)\n",
        "features=[ 'frame.len', 'ip.hdr_len',\n",
        "       'ip.len', 'ip.flags.rb', 'ip.flags.df', 'p.flags.mf', 'ip.frag_offset',\n",
        "       'ip.ttl', 'ip.proto', 'tcp.srcport', 'tcp.dstport',\n",
        "       'tcp.len', 'tcp.ack', 'tcp.flags.res', 'tcp.flags.ns', 'tcp.flags.cwr',\n",
        "       'tcp.flags.ecn', 'tcp.flags.urg', 'tcp.flags.ack', 'tcp.flags.push',\n",
        "       'tcp.flags.reset', 'tcp.flags.syn', 'tcp.flags.fin', 'tcp.window_size',\n",
        "       'tcp.time_delta']\n",
        "X_normal= data_normal[features].values\n",
        "X_attack= data_attack[features].values\n",
        "Y_normal= data_normal['class']\n",
        "Y_attack= data_attack['class']\n",
        "X=np.concatenate((X_normal,X_attack))\n",
        "Y=np.concatenate((Y_normal,Y_attack))"
      ]
    },
    {
      "cell_type": "markdown",
      "source": [
        "Standardizing the data"
      ],
      "metadata": {
        "id": "YgA3JA0HSpxh"
      }
    },
    {
      "cell_type": "code",
      "execution_count": null,
      "metadata": {
        "id": "b3xIr2rRkWMX"
      },
      "outputs": [],
      "source": [
        "scalar = StandardScaler(copy=True, with_mean=True, with_std=True)\n",
        "scalar.fit(X)\n",
        "X = scalar.transform(X)\n",
        "for i in range(0,len(Y)):\n",
        "  if Y[i] ==\"attack\":\n",
        "    Y[i]=0\n",
        "  else:\n",
        "    Y[i]=1\n",
        "features = len(X[0])\n",
        "samples = X.shape[0]\n",
        "train_len = 25\n",
        "input_len = samples - train_len\n",
        "I = np.zeros((samples - train_len, train_len, features))\n",
        "for i in range(input_len):\n",
        "    temp = np.zeros((train_len, features))\n",
        "    for j in range(i, i + train_len - 1):\n",
        "        temp[j-i] = X[j]\n",
        "    I[i] = temp   "
      ]
    },
    {
      "cell_type": "code",
      "source": [
        "len(Y[25:]),len(I)"
      ],
      "metadata": {
        "colab": {
          "base_uri": "https://localhost:8080/"
        },
        "id": "XfAJ3BTJzg9o",
        "outputId": "3259f47d-c694-41be-fdec-1c32fcc279c2"
      },
      "execution_count": null,
      "outputs": [
        {
          "output_type": "execute_result",
          "data": {
            "text/plain": [
              "(119975, 119975)"
            ]
          },
          "metadata": {},
          "execution_count": 29
        }
      ]
    },
    {
      "cell_type": "markdown",
      "source": [
        "Splitting the data and initializing LSTM model"
      ],
      "metadata": {
        "id": "a8fpY9oASzZ9"
      }
    },
    {
      "cell_type": "code",
      "execution_count": null,
      "metadata": {
        "id": "1l5ft9AblBln"
      },
      "outputs": [],
      "source": [
        "X_train, X_test, Y_train, Y_test = train_test_split(I, Y[25:], test_size = 0.3,shuffle=True)\n",
        "Y_train=np.array(Y_train,dtype=np.float32)\n",
        "model = Sequential()\n",
        "model.add(Bidirectional(LSTM(64, activation='tanh', kernel_regularizer='l2')))\n",
        "model.add(Dense(128, activation = 'relu', kernel_regularizer='l2'))\n",
        "model.add(Dense(1, activation = 'sigmoid', kernel_regularizer='l2'))\n",
        "model.compile(loss = 'binary_crossentropy', optimizer = 'adam', metrics = ['accuracy'])\n"
      ]
    },
    {
      "cell_type": "code",
      "execution_count": null,
      "metadata": {
        "id": "d6nUrwGNdYUP",
        "outputId": "5f925bfc-a02e-4dfa-c7bf-4d2038692561",
        "colab": {
          "base_uri": "https://localhost:8080/"
        }
      },
      "outputs": [
        {
          "output_type": "stream",
          "name": "stdout",
          "text": [
            "Epoch 1/60\n",
            "2100/2100 [==============================] - 19s 7ms/step - loss: 0.3131 - accuracy: 0.9254 - val_loss: 0.2195 - val_accuracy: 0.9470\n",
            "Epoch 2/60\n",
            "2100/2100 [==============================] - 15s 7ms/step - loss: 0.1902 - accuracy: 0.9517 - val_loss: 0.1801 - val_accuracy: 0.9525\n",
            "Epoch 3/60\n",
            "2100/2100 [==============================] - 14s 7ms/step - loss: 0.1713 - accuracy: 0.9575 - val_loss: 0.2479 - val_accuracy: 0.9300\n",
            "Epoch 4/60\n",
            "2100/2100 [==============================] - 14s 7ms/step - loss: 0.1644 - accuracy: 0.9596 - val_loss: 0.1504 - val_accuracy: 0.9627\n",
            "Epoch 5/60\n",
            "2100/2100 [==============================] - 14s 7ms/step - loss: 0.1556 - accuracy: 0.9624 - val_loss: 0.1482 - val_accuracy: 0.9633\n",
            "Epoch 6/60\n",
            "2100/2100 [==============================] - 14s 7ms/step - loss: 0.1515 - accuracy: 0.9635 - val_loss: 0.1859 - val_accuracy: 0.9577\n",
            "Epoch 7/60\n",
            "2100/2100 [==============================] - 14s 7ms/step - loss: 0.1538 - accuracy: 0.9629 - val_loss: 0.1433 - val_accuracy: 0.9671\n",
            "Epoch 8/60\n",
            "2100/2100 [==============================] - 14s 7ms/step - loss: 0.1421 - accuracy: 0.9656 - val_loss: 0.1588 - val_accuracy: 0.9642\n",
            "Epoch 9/60\n",
            "2100/2100 [==============================] - 14s 7ms/step - loss: 0.1373 - accuracy: 0.9671 - val_loss: 0.1280 - val_accuracy: 0.9690\n",
            "Epoch 10/60\n",
            "2100/2100 [==============================] - 14s 7ms/step - loss: 0.1400 - accuracy: 0.9660 - val_loss: 0.1402 - val_accuracy: 0.9684\n",
            "Epoch 11/60\n",
            "2100/2100 [==============================] - 14s 7ms/step - loss: 0.1326 - accuracy: 0.9685 - val_loss: 0.1726 - val_accuracy: 0.9512\n",
            "Epoch 12/60\n",
            "2100/2100 [==============================] - 14s 7ms/step - loss: 0.1349 - accuracy: 0.9674 - val_loss: 0.1918 - val_accuracy: 0.9506\n",
            "Epoch 13/60\n",
            "2100/2100 [==============================] - 14s 7ms/step - loss: 0.1326 - accuracy: 0.9676 - val_loss: 0.1273 - val_accuracy: 0.9705\n",
            "Epoch 14/60\n",
            "2100/2100 [==============================] - 14s 7ms/step - loss: 0.1308 - accuracy: 0.9691 - val_loss: 0.1376 - val_accuracy: 0.9656\n",
            "Epoch 15/60\n",
            "2100/2100 [==============================] - 14s 7ms/step - loss: 0.1282 - accuracy: 0.9696 - val_loss: 0.1386 - val_accuracy: 0.9670\n",
            "Epoch 16/60\n",
            "2100/2100 [==============================] - 14s 7ms/step - loss: 0.1295 - accuracy: 0.9696 - val_loss: 0.1291 - val_accuracy: 0.9701\n",
            "Epoch 17/60\n",
            "2100/2100 [==============================] - 14s 7ms/step - loss: 0.1257 - accuracy: 0.9705 - val_loss: 0.1236 - val_accuracy: 0.9693\n",
            "Epoch 18/60\n",
            "2100/2100 [==============================] - 14s 7ms/step - loss: 0.1231 - accuracy: 0.9706 - val_loss: 0.1611 - val_accuracy: 0.9604\n",
            "Epoch 19/60\n",
            "2100/2100 [==============================] - 14s 7ms/step - loss: 0.1279 - accuracy: 0.9693 - val_loss: 0.1187 - val_accuracy: 0.9725\n",
            "Epoch 20/60\n",
            "2100/2100 [==============================] - 14s 7ms/step - loss: 0.1194 - accuracy: 0.9719 - val_loss: 0.1211 - val_accuracy: 0.9711\n",
            "Epoch 21/60\n",
            "2100/2100 [==============================] - 14s 7ms/step - loss: 0.1233 - accuracy: 0.9707 - val_loss: 0.1196 - val_accuracy: 0.9716\n",
            "Epoch 22/60\n",
            "2100/2100 [==============================] - 14s 7ms/step - loss: 0.1176 - accuracy: 0.9724 - val_loss: 0.1231 - val_accuracy: 0.9715\n",
            "Epoch 23/60\n",
            "2100/2100 [==============================] - 15s 7ms/step - loss: 0.1164 - accuracy: 0.9727 - val_loss: 0.1223 - val_accuracy: 0.9724\n",
            "Epoch 24/60\n",
            "2100/2100 [==============================] - 14s 7ms/step - loss: 0.1123 - accuracy: 0.9730 - val_loss: 0.1650 - val_accuracy: 0.9587\n",
            "Epoch 25/60\n",
            "2100/2100 [==============================] - 14s 7ms/step - loss: 0.1160 - accuracy: 0.9724 - val_loss: 0.1146 - val_accuracy: 0.9720\n",
            "Epoch 26/60\n",
            "2100/2100 [==============================] - 14s 7ms/step - loss: 0.1178 - accuracy: 0.9722 - val_loss: 0.1215 - val_accuracy: 0.9711\n",
            "Epoch 27/60\n",
            "2100/2100 [==============================] - 14s 7ms/step - loss: 0.1164 - accuracy: 0.9722 - val_loss: 0.1148 - val_accuracy: 0.9727\n",
            "Epoch 28/60\n",
            "2100/2100 [==============================] - 14s 7ms/step - loss: 0.1113 - accuracy: 0.9738 - val_loss: 0.1135 - val_accuracy: 0.9726\n",
            "Epoch 29/60\n",
            "2100/2100 [==============================] - 14s 7ms/step - loss: 0.1103 - accuracy: 0.9741 - val_loss: 0.1154 - val_accuracy: 0.9709\n",
            "Epoch 30/60\n",
            "2100/2100 [==============================] - 14s 7ms/step - loss: 0.1141 - accuracy: 0.9740 - val_loss: 0.1144 - val_accuracy: 0.9723\n",
            "Epoch 31/60\n",
            "2100/2100 [==============================] - 14s 7ms/step - loss: 0.1092 - accuracy: 0.9747 - val_loss: 0.1284 - val_accuracy: 0.9730\n",
            "Epoch 32/60\n",
            "2100/2100 [==============================] - 14s 7ms/step - loss: 0.1094 - accuracy: 0.9750 - val_loss: 0.1142 - val_accuracy: 0.9732\n",
            "Epoch 33/60\n",
            "2100/2100 [==============================] - 14s 7ms/step - loss: 0.1065 - accuracy: 0.9755 - val_loss: 0.1035 - val_accuracy: 0.9771\n",
            "Epoch 34/60\n",
            "2100/2100 [==============================] - 14s 7ms/step - loss: 0.1076 - accuracy: 0.9762 - val_loss: 0.1063 - val_accuracy: 0.9758\n",
            "Epoch 35/60\n",
            "2100/2100 [==============================] - 14s 7ms/step - loss: 0.1056 - accuracy: 0.9759 - val_loss: 0.1077 - val_accuracy: 0.9765\n",
            "Epoch 36/60\n",
            "2100/2100 [==============================] - 14s 7ms/step - loss: 0.1077 - accuracy: 0.9759 - val_loss: 0.0997 - val_accuracy: 0.9783\n",
            "Epoch 37/60\n",
            "2100/2100 [==============================] - 14s 7ms/step - loss: 0.1039 - accuracy: 0.9761 - val_loss: 0.1398 - val_accuracy: 0.9627\n",
            "Epoch 38/60\n",
            "2100/2100 [==============================] - 14s 7ms/step - loss: 0.1037 - accuracy: 0.9765 - val_loss: 0.1355 - val_accuracy: 0.9640\n",
            "Epoch 39/60\n",
            "2100/2100 [==============================] - 14s 7ms/step - loss: 0.1053 - accuracy: 0.9766 - val_loss: 0.1012 - val_accuracy: 0.9776\n",
            "Epoch 40/60\n",
            "2100/2100 [==============================] - 14s 7ms/step - loss: 0.1024 - accuracy: 0.9769 - val_loss: 0.1038 - val_accuracy: 0.9762\n",
            "Epoch 41/60\n",
            "2100/2100 [==============================] - 14s 7ms/step - loss: 0.0994 - accuracy: 0.9780 - val_loss: 0.1073 - val_accuracy: 0.9743\n",
            "Epoch 42/60\n",
            "2100/2100 [==============================] - 14s 7ms/step - loss: 0.1039 - accuracy: 0.9767 - val_loss: 0.1069 - val_accuracy: 0.9756\n",
            "Epoch 43/60\n",
            "2100/2100 [==============================] - 14s 7ms/step - loss: 0.1041 - accuracy: 0.9770 - val_loss: 0.1060 - val_accuracy: 0.9755\n",
            "Epoch 44/60\n",
            "2100/2100 [==============================] - 14s 7ms/step - loss: 0.0955 - accuracy: 0.9793 - val_loss: 0.1187 - val_accuracy: 0.9742\n",
            "Epoch 45/60\n",
            "2100/2100 [==============================] - 14s 7ms/step - loss: 0.1011 - accuracy: 0.9780 - val_loss: 0.1067 - val_accuracy: 0.9755\n",
            "Epoch 46/60\n",
            "2100/2100 [==============================] - 14s 7ms/step - loss: 0.0984 - accuracy: 0.9791 - val_loss: 0.1121 - val_accuracy: 0.9759\n",
            "Epoch 47/60\n",
            "2100/2100 [==============================] - 14s 7ms/step - loss: 0.0954 - accuracy: 0.9796 - val_loss: 0.1065 - val_accuracy: 0.9782\n",
            "Epoch 48/60\n",
            "2100/2100 [==============================] - 14s 7ms/step - loss: 0.0965 - accuracy: 0.9792 - val_loss: 0.1037 - val_accuracy: 0.9764\n",
            "Epoch 49/60\n",
            "2100/2100 [==============================] - 14s 7ms/step - loss: 0.0929 - accuracy: 0.9802 - val_loss: 0.1002 - val_accuracy: 0.9771\n",
            "Epoch 50/60\n",
            "2100/2100 [==============================] - 14s 7ms/step - loss: 0.1000 - accuracy: 0.9781 - val_loss: 0.1060 - val_accuracy: 0.9762\n",
            "Epoch 51/60\n",
            "2100/2100 [==============================] - 14s 7ms/step - loss: 0.0990 - accuracy: 0.9793 - val_loss: 0.1196 - val_accuracy: 0.9708\n",
            "Epoch 52/60\n",
            "2100/2100 [==============================] - 14s 7ms/step - loss: 0.0937 - accuracy: 0.9807 - val_loss: 0.1174 - val_accuracy: 0.9757\n",
            "Epoch 53/60\n",
            "2100/2100 [==============================] - 14s 7ms/step - loss: 0.0948 - accuracy: 0.9805 - val_loss: 0.1204 - val_accuracy: 0.9686\n",
            "Epoch 54/60\n",
            "2100/2100 [==============================] - 14s 7ms/step - loss: 0.1015 - accuracy: 0.9791 - val_loss: 0.1073 - val_accuracy: 0.9780\n",
            "Epoch 55/60\n",
            "2100/2100 [==============================] - 14s 7ms/step - loss: 0.0970 - accuracy: 0.9798 - val_loss: 0.1053 - val_accuracy: 0.9781\n",
            "Epoch 56/60\n",
            "2100/2100 [==============================] - 14s 7ms/step - loss: 0.0953 - accuracy: 0.9802 - val_loss: 0.0964 - val_accuracy: 0.9805\n",
            "Epoch 57/60\n",
            "2100/2100 [==============================] - 14s 7ms/step - loss: 0.0914 - accuracy: 0.9807 - val_loss: 0.0934 - val_accuracy: 0.9805\n",
            "Epoch 58/60\n",
            "2100/2100 [==============================] - 14s 7ms/step - loss: 0.0973 - accuracy: 0.9797 - val_loss: 0.1037 - val_accuracy: 0.9774\n",
            "Epoch 59/60\n",
            "2100/2100 [==============================] - 14s 7ms/step - loss: 0.0905 - accuracy: 0.9817 - val_loss: 0.0964 - val_accuracy: 0.9790\n",
            "Epoch 60/60\n",
            "2100/2100 [==============================] - 14s 7ms/step - loss: 0.0928 - accuracy: 0.9810 - val_loss: 0.1114 - val_accuracy: 0.9782\n"
          ]
        }
      ],
      "source": [
        "history = model.fit(X_train, Y_train, epochs = 60,validation_split=0.2, verbose = 1)"
      ]
    },
    {
      "cell_type": "code",
      "source": [
        "model.save(\"/content/drive/Shareddrives/EE706_Project/dataset/Epoch_40.h5\")"
      ],
      "metadata": {
        "id": "8Fk_tkgBKqCt"
      },
      "execution_count": null,
      "outputs": []
    },
    {
      "cell_type": "code",
      "source": [
        "# Plot training & validation accuracy values\n",
        "plt.plot(history.history['accuracy'])\n",
        "plt.plot(history.history['val_accuracy'])\n",
        "plt.title('Training and validation accuracy')\n",
        "plt.ylabel('Accuracy')\n",
        "plt.xlabel('Epoch')\n",
        "plt.legend(['Train', 'validation'], loc='lower right')\n",
        "plt.savefig('/content/drive/Shareddrives/EE706_Project/dataset/acc.png')\n",
        "plt.show()"
      ],
      "metadata": {
        "colab": {
          "base_uri": "https://localhost:8080/",
          "height": 295
        },
        "id": "EXZMFNqEK_CW",
        "outputId": "60b8596a-9c51-48c2-e358-e4e02efca12d"
      },
      "execution_count": null,
      "outputs": [
        {
          "output_type": "display_data",
          "data": {
            "text/plain": [
              "<Figure size 432x288 with 1 Axes>"
            ],
            "image/png": "[encoded data removed]"
          },
          "metadata": {
            "needs_background": "light"
          }
        }
      ]
    },
    {
      "cell_type": "code",
      "source": [
        "# Plot training & validation loss values\n",
        "plt.plot(history.history['loss'])\n",
        "plt.plot(history.history['val_loss'])\n",
        "plt.title('training and validation losses')\n",
        "plt.ylabel('Loss')\n",
        "plt.xlabel('Epoch')\n",
        "plt.legend(['Train', 'validation'], loc='upper right')\n",
        "plt.savefig('/content/drive/Shareddrives/EE706_Project/dataset/loss_plot.png')\n",
        "plt.show()\n"
      ],
      "metadata": {
        "colab": {
          "base_uri": "https://localhost:8080/",
          "height": 295
        },
        "id": "fqucloYPNDzf",
        "outputId": "b8048336-3e98-47c4-938f-9c9221f6c9c3"
      },
      "execution_count": null,
      "outputs": [
        {
          "output_type": "display_data",
          "data": {
            "text/plain": [
              "<Figure size 432x288 with 1 Axes>"
            ],
            "image/png": "[encoded data removed]"
          },
          "metadata": {
            "needs_background": "light"
          }
        }
      ]
    },
    {
      "cell_type": "code",
      "source": [
        "predict = model.predict(X_test, verbose=1)\n",
        "tp = 0\n",
        "tn = 0\n",
        "fp = 0\n",
        "fn = 0\n",
        "predictn = predict.flatten().round()\n",
        "predictn = predictn.tolist()\n",
        "Y_testn = Y_test.tolist()\n",
        "for i in range(len(Y_testn)):\n",
        "  if predictn[i]==1 and Y_testn[i]==1:\n",
        "    tp+=1\n",
        "  elif predictn[i]==0 and Y_testn[i]==0:\n",
        "    tn+=1\n",
        "  elif predictn[i]==0 and Y_testn[i]==1:\n",
        "    fp+=1\n",
        "  elif predictn[i]==1 and Y_testn[i]==0:\n",
        "    fn+=1\n",
        "to_heat_map =[[tn,fp],[fn,tp]]\n",
        "to_heat_map = pd.DataFrame(to_heat_map, index = [\"Attack\",\"Normal\"],columns = [\"Attack\",\"Normal\"])\n",
        "ax = sns.heatmap(to_heat_map,annot=True, fmt=\"d\",cmap='YlGnBu')"
      ],
      "metadata": {
        "colab": {
          "base_uri": "https://localhost:8080/",
          "height": 284
        },
        "id": "u6kA-kJ4Nh4V",
        "outputId": "67a94099-98d9-4ed8-8459-4d28899c2dba"
      },
      "execution_count": null,
      "outputs": [
        {
          "output_type": "stream",
          "name": "stdout",
          "text": [
            "1125/1125 [==============================] - 3s 2ms/step\n"
          ]
        },
        {
          "output_type": "display_data",
          "data": {
            "text/plain": [
              "<Figure size 432x288 with 2 Axes>"
            ],
            "image/png": "[encoded data removed]"
          },
          "metadata": {
            "needs_background": "light"
          }
        }
      ]
    },
    {
      "cell_type": "code",
      "source": [
        "Y_test=np.array(Y_test,dtype=np.float32)\n",
        "scores = model.evaluate(X_test, Y_test, verbose=0)\n",
        "print(\"%s: %.3f%%\" % (model.metrics_names[1], scores[1]*100))\n",
        "figure = ax.get_figure()    \n",
        "figure.savefig('/content/drive/Shareddrives/EE706_Project/dataset/heatmap.png', dpi=500)"
      ],
      "metadata": {
        "colab": {
          "base_uri": "https://localhost:8080/"
        },
        "id": "7SvQOYOcOEYp",
        "outputId": "2a64ab90-b3b1-4516-f01c-5b3f4d55aeef"
      },
      "execution_count": null,
      "outputs": [
        {
          "output_type": "stream",
          "name": "stdout",
          "text": [
            "accuracy: 97.752%\n"
          ]
        }
      ]
    }
  ]
}